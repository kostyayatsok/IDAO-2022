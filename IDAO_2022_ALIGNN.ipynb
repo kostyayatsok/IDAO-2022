{
  "cells": [
    {
      "cell_type": "markdown",
      "metadata": {
        "id": "view-in-github",
        "colab_type": "text"
      },
      "source": [
        "<a href=\"https://colab.research.google.com/github/kostyayatsok/IDAO-2022/blob/main/IDAO_2022_ALIGNN.ipynb\" target=\"_parent\"><img src=\"https://colab.research.google.com/assets/colab-badge.svg\" alt=\"Open In Colab\"/></a>"
      ]
    },
    {
      "cell_type": "markdown",
      "metadata": {
        "id": "OUZGR6D82ij-"
      },
      "source": [
        "# [IDAO-2022](https://idao.world/)\n",
        "[IDAO 2022](https://idao.world/) solution by team182. Based on [ALIGNN](https://github.com/usnistgov/alignn)."
      ]
    },
    {
      "cell_type": "code",
      "execution_count": null,
      "metadata": {
        "id": "WFrl_N-S1Bxk"
      },
      "outputs": [],
      "source": [
        "!pip install -qqq alignn"
      ]
    },
    {
      "cell_type": "code",
      "execution_count": null,
      "metadata": {
        "id": "JyyE-cHL2iOn"
      },
      "outputs": [],
      "source": [
        "import os\n",
        "# Clone ALIGNN repo to get example folder\n",
        "if not os.path.exists('alignn'):\n",
        "  !git clone https://github.com/usnistgov/alignn.git\n",
        "\n",
        "os.chdir('alignn')\n",
        "# Install using setup.py in case pip didn't work\n",
        "# !python setup.py develop\n",
        "\n",
        "!pip install dgl-cu111 # Colab has cuda 11.1"
      ]
    },
    {
      "cell_type": "markdown",
      "metadata": {
        "id": "nKyGxe4pozLo"
      },
      "source": [
        "# Prepare data"
      ]
    },
    {
      "cell_type": "code",
      "execution_count": null,
      "metadata": {
        "id": "Bb30n15Soyyg"
      },
      "outputs": [],
      "source": [
        "!git clone https://github.com/HSE-LAMBDA/IDAO-2022.git\n",
        "!cd IDAO-2022/data && tar -xf dichalcogenides_public.tar.gz\n",
        "%pip install -qqq pymatgen wandb"
      ]
    },
    {
      "cell_type": "code",
      "execution_count": null,
      "metadata": {
        "id": "rMnzMMC_pBp0"
      },
      "outputs": [],
      "source": [
        "import yaml\n",
        "import json\n",
        "\n",
        "import pandas as pd\n",
        "import numpy as np\n",
        "from pathlib import Path\n",
        "from pymatgen.core import Structure\n",
        "import os\n",
        "\n",
        "def convert_to_POSCAR(file):\n",
        "    with open(file, \"r\") as f:\n",
        "        d = json.load(f)\n",
        "    s = Structure.from_dict(d)\n",
        "\n",
        "    parts = list(file.parts)\n",
        "    parts[-1] = file.stem + \".vasp\"\n",
        "    parts[-2] = \"POSCAR\"\n",
        "    new_file = Path(*parts)\n",
        "    \n",
        "    s.to(fmt=\"poscar\", filename=new_file)\n",
        "\n",
        "def convert_dataset_to_POSCAR(dataset_path):\n",
        "    dataset_path = Path(dataset_path)\n",
        "\n",
        "    ! rm -r dataset_path/\"POSCAR\"\n",
        "    os.makedirs(dataset_path/\"POSCAR\", exist_ok=True)\n",
        "    \n",
        "    try:\n",
        "        targets = pd.read_csv(dataset_path / \"targets.csv\")\n",
        "        targets._id = targets._id + \".vasp\"\n",
        "        targets.to_csv(dataset_path/\"POSCAR\"/\"id_prop.csv\", index=False, header=False)\n",
        "    except:\n",
        "        pass\n",
        "    for item in (dataset_path / \"structures\").iterdir():\n",
        "        convert_to_POSCAR(item)\n",
        "\n",
        "\n",
        "convert_dataset_to_POSCAR('./IDAO-2022/data/dichalcogenides_public/')"
      ]
    },
    {
      "cell_type": "markdown",
      "metadata": {
        "id": "FbzuGCA332yS"
      },
      "source": [
        "# Train a model"
      ]
    },
    {
      "cell_type": "markdown",
      "metadata": {
        "id": "HNHla4FDKRre"
      },
      "source": [
        "Command line train_folder.py is used below."
      ]
    },
    {
      "cell_type": "code",
      "execution_count": null,
      "metadata": {
        "id": "Oo4u6PIQEZBf"
      },
      "outputs": [],
      "source": [
        "!rm -r temp"
      ]
    },
    {
      "cell_type": "code",
      "source": [
        "%%writefile config.json\n",
        "{\n",
        "    \"version\": \"112bbedebdaecf59fb18e11c929080fb2f358246\",\n",
        "    \"dataset\": \"user_data\",\n",
        "    \"target\": \"target\",\n",
        "    \"atom_features\": \"cgcnn\",\n",
        "    \"neighbor_strategy\": \"k-nearest\",\n",
        "    \"id_tag\": \"jid\",\n",
        "    \"random_seed\": 123,\n",
        "    \"classification_threshold\": null,\n",
        "    \"n_val\": null,\n",
        "    \"n_test\": null,\n",
        "    \"n_train\": null,\n",
        "    \"train_ratio\": 0.8,\n",
        "    \"val_ratio\": 0.1,\n",
        "    \"test_ratio\": 0.1,\n",
        "    \"target_multiplication_factor\": null,\n",
        "    \"epochs\": 200,\n",
        "    \"batch_size\": 8,\n",
        "    \"weight_decay\": 1e-05,\n",
        "    \"learning_rate\": 0.001,\n",
        "    \"filename\": \"sample\",\n",
        "    \"warmup_steps\": 2000,\n",
        "    \"criterion\": \"mse\",\n",
        "    \"optimizer\": \"adamw\",\n",
        "    \"scheduler\": \"onecycle\",\n",
        "    \"pin_memory\": false,\n",
        "    \"save_dataloader\": false,\n",
        "    \"write_checkpoint\": true,\n",
        "    \"write_predictions\": false,\n",
        "    \"store_outputs\": true,\n",
        "    \"progress\": true,\n",
        "    \"log_tensorboard\": false,\n",
        "    \"standard_scalar_and_pca\": false,\n",
        "    \"use_canonize\": true,\n",
        "    \"num_workers\": 0,\n",
        "    \"cutoff\": 8.0,\n",
        "    \"max_neighbors\": 12,\n",
        "    \"keep_data_order\": false,\n",
        "    \"model\": {\n",
        "        \"name\": \"alignn\",\n",
        "        \"alignn_layers\": 4,\n",
        "        \"gcn_layers\": 4,\n",
        "        \"atom_input_features\": 92,\n",
        "        \"edge_input_features\": 80,\n",
        "        \"triplet_input_features\": 40,\n",
        "        \"embedding_features\": 64,\n",
        "        \"hidden_features\": 128,\n",
        "        \"output_features\": 1,\n",
        "        \"link\": \"identity\",\n",
        "        \"zero_inflated\": false,\n",
        "        \"classification\": false\n",
        "    }\n",
        "}"
      ],
      "metadata": {
        "id": "BQCA4KrhlgFc"
      },
      "execution_count": null,
      "outputs": []
    },
    {
      "cell_type": "code",
      "execution_count": null,
      "metadata": {
        "id": "l5JkSMwx2cfy"
      },
      "outputs": [],
      "source": [
        "!train_folder.py --root_dir \"IDAO-2022/data/dichalcogenides_public/POSCAR/\" --config config.json --output_dir=temp"
      ]
    },
    {
      "cell_type": "code",
      "execution_count": null,
      "metadata": {
        "id": "4Bh6Fk03Zyno"
      },
      "outputs": [],
      "source": [
        "import glob\n",
        "latest = 0\n",
        "weight_ = None\n",
        "for weight in glob.glob(\"temp/*.pt\"):\n",
        "    epoch = int(weight.split('_')[-1].split('.')[0])  \n",
        "    if epoch > latest:\n",
        "        latest = epoch\n",
        "        weight_ = weight"
      ]
    },
    {
      "cell_type": "code",
      "execution_count": null,
      "metadata": {
        "id": "0_MQgzjbabz4"
      },
      "outputs": [],
      "source": [
        "from google.colab import files\n",
        "files.download(weight_)"
      ]
    },
    {
      "cell_type": "code",
      "execution_count": null,
      "metadata": {
        "id": "JYrs1vgkSlVl"
      },
      "outputs": [],
      "source": [
        "import json\n",
        "import pandas as pd\n",
        "true = pd.read_csv(\"IDAO-2022/data/dichalcogenides_public/POSCAR/id_prop.csv\", header=None)"
      ]
    },
    {
      "cell_type": "code",
      "execution_count": null,
      "metadata": {
        "id": "UHNEOKn0NMI-"
      },
      "outputs": [],
      "source": [
        "from alignn.models.alignn import ALIGNN, ALIGNNConfig\n",
        "from alignn.pretrained import get_multiple_predictions\n",
        "import torch\n",
        "from jarvis.db.jsonutils import loadjson\n",
        "from alignn.config import TrainingConfig\n",
        "from jarvis.core.atoms import Atoms\n",
        "\n",
        "model = ALIGNN(ALIGNNConfig(name=\"alignn\", output_features=1))\n",
        "model.load_state_dict(torch.load(weight_, map_location='cuda:0')[\"model\"])\n",
        "model.to('cuda:0')\n",
        "model.eval()\n",
        "\n",
        "import glob\n",
        "atoms_array = []\n",
        "for name in true[0]:\n",
        "    i = f\"IDAO-2022/data/dichalcogenides_public/POSCAR/{name}\"\n",
        "    atoms = Atoms.from_poscar(i)\n",
        "    atoms_array.append(atoms)\n",
        "get_multiple_predictions(model=model, atoms_array=atoms_array)\n",
        "\n",
        "with open(\"pred_data.json\") as f:\n",
        "    data = json.load(f)\n",
        "pred = pd.DataFrame.from_dict(data)\n",
        "pred = pred.drop(columns=\"atoms\")"
      ]
    },
    {
      "cell_type": "code",
      "execution_count": null,
      "metadata": {
        "id": "D373QHhHaijk"
      },
      "outputs": [],
      "source": [
        "files.download(\"pred_data.json\")"
      ]
    },
    {
      "cell_type": "code",
      "execution_count": null,
      "metadata": {
        "id": "NDY1MQBtWJLe"
      },
      "outputs": [],
      "source": [
        "import numpy as np\n",
        "def energy_within_threshold(prediction, target):\n",
        "    # compute absolute error on energy per system.\n",
        "    # then count the no. of systems where max energy error is < 0.02.\n",
        "    e_thresh = 0.02\n",
        "    error_energy = np.abs(target - prediction)\n",
        "\n",
        "    success = np.count_nonzero(error_energy < e_thresh)\n",
        "    total = target.shape[0]\n",
        "    return success / total\n",
        "energy_within_threshold(pred.pred, true[1]), np.mean(np.abs(pred.pred - true[1]))"
      ]
    },
    {
      "cell_type": "markdown",
      "metadata": {
        "id": "Uwp73hUiOsLr"
      },
      "source": [
        "# Prepare test data and predict"
      ]
    },
    {
      "cell_type": "code",
      "source": [
        "!wget https://github.com/kostyayatsok/IDAO-2022/raw/main/checkpoint_200.pt"
      ],
      "metadata": {
        "id": "JQnLOT6QrGg9"
      },
      "execution_count": null,
      "outputs": []
    },
    {
      "cell_type": "code",
      "execution_count": null,
      "metadata": {
        "id": "pFJx9uc1OviI"
      },
      "outputs": [],
      "source": [
        "!cd IDAO-2022/data && tar -xf dichalcogenides_private.tar.gz"
      ]
    },
    {
      "cell_type": "code",
      "execution_count": null,
      "metadata": {
        "id": "t4uXuHxAPcBe"
      },
      "outputs": [],
      "source": [
        "!cp IDAO-2022/submission.csv IDAO-2022/data/dichalcogenides_private/targets.csv"
      ]
    },
    {
      "cell_type": "code",
      "execution_count": null,
      "metadata": {
        "id": "LzWgVDTaO2Wy"
      },
      "outputs": [],
      "source": [
        "convert_dataset_to_POSCAR('./IDAO-2022/data/dichalcogenides_private/')"
      ]
    },
    {
      "cell_type": "code",
      "execution_count": null,
      "metadata": {
        "id": "kMX9eBSZPRoz"
      },
      "outputs": [],
      "source": [
        "import json\n",
        "import pandas as pd\n",
        "submission = pd.read_csv(\"IDAO-2022/submission.csv\")"
      ]
    },
    {
      "cell_type": "code",
      "execution_count": null,
      "metadata": {
        "id": "QWLJGEOEPGTS"
      },
      "outputs": [],
      "source": [
        "from alignn.models.alignn import ALIGNN, ALIGNNConfig\n",
        "from alignn.pretrained import get_multiple_predictions\n",
        "import torch\n",
        "from jarvis.db.jsonutils import loadjson\n",
        "from alignn.config import TrainingConfig\n",
        "from jarvis.core.atoms import Atoms\n",
        "\n",
        "weight_ = \"./checkpoint_200.pt\"\n",
        "\n",
        "model = ALIGNN(ALIGNNConfig(name=\"alignn\", output_features=1))\n",
        "model.load_state_dict(torch.load(weight_, map_location='cuda:0')[\"model\"])\n",
        "model.to('cuda:0')\n",
        "model.eval()\n",
        "\n",
        "import glob\n",
        "atoms_array = []\n",
        "for name in submission[\"id\"]:\n",
        "    i = f\"IDAO-2022/data/dichalcogenides_private/POSCAR/{name}.vasp\"\n",
        "    atoms = Atoms.from_poscar(i)\n",
        "    atoms_array.append(atoms)\n",
        "get_multiple_predictions(model=model, atoms_array=atoms_array)\n",
        "\n",
        "with open(\"pred_data.json\") as f:\n",
        "    data = json.load(f)\n",
        "pred = pd.DataFrame.from_dict(data)\n",
        "pred = pred.drop(columns=\"atoms\")\n",
        "\n",
        "submission[\"predictions\"] = pred[\"pred\"]"
      ]
    },
    {
      "cell_type": "code",
      "execution_count": null,
      "metadata": {
        "id": "O0z5WsG6TaiV"
      },
      "outputs": [],
      "source": [
        "submission[\"predictions\"] = pred[\"pred\"]"
      ]
    },
    {
      "cell_type": "code",
      "execution_count": null,
      "metadata": {
        "id": "b99a7Zx0Tnre"
      },
      "outputs": [],
      "source": [
        "submission"
      ]
    },
    {
      "cell_type": "code",
      "execution_count": null,
      "metadata": {
        "id": "KUabfJFkPCJK"
      },
      "outputs": [],
      "source": [
        "from google.colab import files\n",
        "submission.to_csv(\"submission.csv\", index=False)\n",
        "files.download(\"submission.csv\")"
      ]
    }
  ],
  "metadata": {
    "accelerator": "GPU",
    "colab": {
      "collapsed_sections": [],
      "name": "IDAO-2022-ALIGNN.ipynb",
      "provenance": [],
      "include_colab_link": true
    },
    "kernelspec": {
      "display_name": "Python 3",
      "name": "python3"
    },
    "language_info": {
      "name": "python"
    }
  },
  "nbformat": 4,
  "nbformat_minor": 0
}